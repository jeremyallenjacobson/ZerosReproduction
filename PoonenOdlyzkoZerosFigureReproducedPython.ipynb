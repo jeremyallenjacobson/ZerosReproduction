{
 "cells": [
  {
   "cell_type": "markdown",
   "metadata": {},
   "source": [
    "## Python project: Zeros of polynomials with 0,1 coefficients\n",
    "---\n",
    "In this Jupyter notebook we will explain how to use Python to recreate the interesting image on page 319 of the paper\n",
    "**Zeros of polynomials with 0,1 coefficients**, B. Poonen, A.M. Odlyzko. *L'Enseignement Math.* **39** (1993), 317-348.\n",
    " \n",
    "First, you may want to run the cell below to display the image of interest from the paper."
   ]
  },
  {
   "cell_type": "code",
   "execution_count": null,
   "metadata": {
    "collapsed": false
   },
   "outputs": [],
   "source": [
    "from PIL import Image\n",
    "Image.open( \"C:\\Users\\jajaco3\\Documents\\GitHub\\ResearchPresentation\\zeros\\PoonenOdlyzkoImage.png\")\n"
   ]
  },
  {
   "cell_type": "markdown",
   "metadata": {},
   "source": [
    "As described in the caption, this image is the zeros of all polynomials\n",
    "\n",
    "$$ a_n x^n +  a_{n-1}x^{n-1} + \\cdots + a_1 x + 1=0\\\\$$ \n",
    "$$a_i\\in \\{0,1\\}$$\n",
    "\n",
    "of degree $n\\leq 16$.\n",
    "\n",
    "That is why $x=0+0j$ doesn't appear as a root in their picture.\n",
    "\n",
    "We have no problem about speed in finding roots for $n\\leq 16$, so we draw here the zeros of all polynomials\n",
    "\n",
    "$$ a_n x^n +  a_{n-1}x^{n-1} + \\cdots + a_1 x + a_0=0\\\\$$ \n",
    "$$a_i\\in \\{0,1\\}$$\n",
    "\n",
    "of degree $n\\leq 16$ (doing it this way is inefficient as we repeat root calculations)."
   ]
  },
  {
   "cell_type": "markdown",
   "metadata": {},
   "source": [
    "In the cell below, we start by importing a function from Itertools, a package of ready-made tools for very particular types of iteration. \n",
    "\n",
    "With pdmax, we declare the maximum degree of polynomial to find roots for.\n",
    "\n",
    "We use the function 'product' from 'itertools' to iterate a complete list of all possible 0,1 coefficients of polynomials of degree less than or equal to pdmax.\n",
    "\n",
    "We name this list coefficients below."
   ]
  },
  {
   "cell_type": "code",
   "execution_count": null,
   "metadata": {
    "collapsed": false
   },
   "outputs": [],
   "source": [
    "from itertools import product\n",
    "pdmax = 16\n",
    "coefficients = list(product(range(2), repeat = pdmax ))"
   ]
  },
  {
   "cell_type": "markdown",
   "metadata": {},
   "source": [
    "For instance, to see all possible 0,1 coefficients of polynomials of degree less than or equal to 5 run the cell below."
   ]
  },
  {
   "cell_type": "code",
   "execution_count": null,
   "metadata": {
    "collapsed": false
   },
   "outputs": [],
   "source": [
    "coefficientsLessEqual5 = list(product(range(2), repeat = 5 ))\n",
    "coefficientsLessEqual5"
   ]
  },
  {
   "cell_type": "markdown",
   "metadata": {},
   "source": [
    "Next, we use the image package to create a png file with 'imgx' times 'imgy' pixels. "
   ]
  },
  {
   "cell_type": "code",
   "execution_count": null,
   "metadata": {
    "collapsed": true
   },
   "outputs": [],
   "source": [
    "imgx = 1080\n",
    "imgy = 1080\n",
    "image = Image.new(\"1\", (imgx, imgy), \"white\")"
   ]
  },
  {
   "cell_type": "markdown",
   "metadata": {},
   "source": [
    "We then import the python package numpy which contains the function 'roots' we will use to find roots."
   ]
  },
  {
   "cell_type": "code",
   "execution_count": null,
   "metadata": {
    "collapsed": true
   },
   "outputs": [],
   "source": [
    "import numpy"
   ]
  },
  {
   "cell_type": "markdown",
   "metadata": {},
   "source": [
    "In the next cell, the numbers 'xa', 'xb', 'ya', and 'yb' determine a rectangle\n",
    "\n",
    "$$[xa,xb]\\times [ya,yb]$$\n",
    "\n",
    "We will draw, as pixels in the png file, all the roots $a+bj$ in the plane for which $(a,b)$ fit into this rectangle."
   ]
  },
  {
   "cell_type": "code",
   "execution_count": null,
   "metadata": {
    "collapsed": true
   },
   "outputs": [],
   "source": [
    "# rectangle to include roots from\n",
    "xa = -1.5\n",
    "xb = 1.5\n",
    "ya = -1.5\n",
    "yb = 1.5"
   ]
  },
  {
   "cell_type": "markdown",
   "metadata": {},
   "source": [
    "The Python Imaging Library is based upon an upside down standard Cartesian pixel coordinate system. For example, $(0,0)$ refers to the pixel in the upper left corner of the image, $(0, imgy-1)$ is the pixel in the lower left corner, $(imgx -1, imgy -1)$ is the pixel in the lower right corner, and $(imgx-1, 0)$ the pixel in the upper right corner. \n",
    "\n",
    "When drawing the image, we rescale the roots to fit into the grid of pixels and reflect y so that the picture we draw follows the standard cartesian coordinates. For example, run the cell below to see which pixel the imaginary number $j$ appears as. \n"
   ]
  },
  {
   "cell_type": "code",
   "execution_count": null,
   "metadata": {
    "collapsed": false
   },
   "outputs": [],
   "source": [
    "kx = (imgx -1) * (1j.real -xa) / (xb -xa)  # rescale real coordinate to pixel\n",
    "ky = (imgy -1) - (imgy-1) * (1j.imag - ya) / (yb - ya) # rescale imaginary coordinate to pixel\n",
    "pixelFori = (int(kx), int(ky))\n",
    "print pixelFori"
   ]
  },
  {
   "cell_type": "markdown",
   "metadata": {},
   "source": [
    "The code we use to draw the image is based upon source code that accompanied the article **A Digital Slice of Pi**,  Wayt Gibbs, *Scientific American Magazine* (May 2003).\n",
    "\n",
    "Run the cell below. This will draw the image by placing a black pixel wherever a root appears and it will display the image just created."
   ]
  },
  {
   "cell_type": "code",
   "execution_count": null,
   "metadata": {
    "collapsed": false
   },
   "outputs": [],
   "source": [
    "for p in range(len(coefficients)):\n",
    "    roots = numpy.roots(coefficients[p])\n",
    "    for k in range(len(roots)):\n",
    "        kx = (imgx - 1) * (roots[k].real - xa) / (xb - xa) # rescale real coordinate to pixel\n",
    "        ky = (imgy -1) - (imgy - 1) * (roots[k].imag - ya) / (yb - ya) # rescale imaginary coordinate to pixel\n",
    "        if kx >= 0 and kx <= imgx -1 and ky >= 0 and ky <= imgy - 1:\n",
    "                image.putpixel((int(kx), int(ky)), 0) # place black dot for root, \n",
    "            \n",
    "image.save(\"1080ResAllDegreeLessEqual16.png\", \"PNG\")\n",
    "Image.open(\"1080ResAllDegreeLessEqual16.png\")"
   ]
  }
 ],
 "metadata": {
  "anaconda-cloud": {},
  "kernelspec": {
   "display_name": "Python [conda root]",
   "language": "python",
   "name": "conda-root-py"
  },
  "language_info": {
   "codemirror_mode": {
    "name": "ipython",
    "version": 2
   },
   "file_extension": ".py",
   "mimetype": "text/x-python",
   "name": "python",
   "nbconvert_exporter": "python",
   "pygments_lexer": "ipython2",
   "version": "2.7.12"
  }
 },
 "nbformat": 4,
 "nbformat_minor": 0
}
